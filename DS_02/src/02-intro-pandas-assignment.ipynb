{
 "cells": [
  {
   "cell_type": "markdown",
   "metadata": {},
   "source": [
    "# Задание"
   ]
  },
  {
   "cell_type": "code",
   "execution_count": 69,
   "metadata": {},
   "outputs": [
    {
     "name": "stderr",
     "output_type": "stream",
     "text": [
      "C:\\Users\\kuzne\\AppData\\Local\\Temp\\ipykernel_16748\\2978715285.py:3: DtypeWarning: Columns (0,208,225,255,257,260,270,271,277) have mixed types. Specify dtype option on import or set low_memory=False.\n",
      "  data = pd.read_csv(\"../datasets/kaggle_survey_2022_responses.csv\")\n"
     ]
    }
   ],
   "source": [
    "import pandas as pd\n",
    "import numpy as np\n",
    "data = pd.read_csv(\"../datasets/kaggle_survey_2022_responses.csv\")\n",
    "name2question = data.iloc[0]\n",
    "data.drop(0, inplace=True)"
   ]
  },
  {
   "cell_type": "markdown",
   "metadata": {},
   "source": [
    "## Задание 1"
   ]
  },
  {
   "cell_type": "markdown",
   "metadata": {},
   "source": [
    "Узнай самый часто встречаемый возраст респондентов"
   ]
  },
  {
   "cell_type": "code",
   "execution_count": 70,
   "metadata": {},
   "outputs": [
    {
     "data": {
      "text/plain": [
       "'18-21'"
      ]
     },
     "execution_count": 70,
     "metadata": {},
     "output_type": "execute_result"
    }
   ],
   "source": [
    "data['Q2'].value_counts().idxmax()"
   ]
  },
  {
   "cell_type": "markdown",
   "metadata": {},
   "source": [
    "## Задание 2"
   ]
  },
  {
   "cell_type": "markdown",
   "metadata": {},
   "source": [
    "Посчитай долю женщин среди русских участником опроса, которые уже не студенты. Результат округли до 2х цифры после запятой"
   ]
  },
  {
   "cell_type": "code",
   "execution_count": 71,
   "metadata": {},
   "outputs": [
    {
     "data": {
      "text/plain": [
       "0.24"
      ]
     },
     "execution_count": 71,
     "metadata": {},
     "output_type": "execute_result"
    }
   ],
   "source": [
    "filt1 = ((data['Q4'] == 'Russia') & (data['Q5'] == 'No')).sum()\n",
    "filt2 = ((data['Q3'] == 'Woman') & (data['Q4'] == 'Russia') & (data['Q5'] == 'No')).sum()\n",
    "round(filt2/filt1, 2)"
   ]
  },
  {
   "cell_type": "markdown",
   "metadata": {},
   "source": [
    "## Задание 3"
   ]
  },
  {
   "cell_type": "markdown",
   "metadata": {},
   "source": [
    "Найди среднее время заполнения опроса в **минутах**. Результат округли до 2х знаков после запятой"
   ]
  },
  {
   "cell_type": "code",
   "execution_count": 72,
   "metadata": {},
   "outputs": [
    {
     "data": {
      "text/plain": [
       "168.17"
      ]
     },
     "execution_count": 72,
     "metadata": {},
     "output_type": "execute_result"
    }
   ],
   "source": [
    "round(data['Duration (in seconds)'].astype(int).mean()/60, 2)"
   ]
  },
  {
   "cell_type": "markdown",
   "metadata": {},
   "source": [
    "## Задание 4"
   ]
  },
  {
   "cell_type": "markdown",
   "metadata": {},
   "source": [
    "Выведи топ-3 образовательных курса, которые указали респонденты. P.S Это вопрос Q6"
   ]
  },
  {
   "cell_type": "code",
   "execution_count": 73,
   "metadata": {},
   "outputs": [
    {
     "data": {
      "text/plain": [
       "Coursera                                                 9699\n",
       "University Courses (resulting in a university degree)    6780\n",
       "Kaggle Learn Courses                                     6628\n",
       "Name: value, dtype: int64"
      ]
     },
     "execution_count": 73,
     "metadata": {},
     "output_type": "execute_result"
    }
   ],
   "source": [
    "q6_columns = [col for col in data.columns if col.startswith('Q6')]\n",
    "data[q6_columns].melt()['value'].value_counts().head(3)"
   ]
  },
  {
   "cell_type": "markdown",
   "metadata": {},
   "source": [
    "## Задание 5"
   ]
  },
  {
   "cell_type": "markdown",
   "metadata": {},
   "source": [
    "Узнай топ-5 языков программирования, которые регулярно используют Data Scientists в своей работе"
   ]
  },
  {
   "cell_type": "code",
   "execution_count": 74,
   "metadata": {},
   "outputs": [
    {
     "data": {
      "text/plain": [
       "Python    18653\n",
       "SQL        9620\n",
       "R          4571\n",
       "C++        4549\n",
       "Java       3862\n",
       "Name: value, dtype: int64"
      ]
     },
     "execution_count": 74,
     "metadata": {},
     "output_type": "execute_result"
    }
   ],
   "source": [
    "q12_columns = [col for col in data.columns if col.startswith('Q12')]\n",
    "data[q12_columns].melt()['value'].value_counts().head(5)"
   ]
  },
  {
   "cell_type": "markdown",
   "metadata": {},
   "source": [
    "## Задание 6"
   ]
  },
  {
   "cell_type": "markdown",
   "metadata": {},
   "source": [
    "Узнай средний доход 'Data Scientist' и 'Machine Learning/ MLops Engineer' \\\n",
    "Т.к в колонке Q29 у на промежуток, то возьмите среднее значение из промежкутка. Например '15,000-19,999' - 17500, '125,000-149,999' - 137500. >$1,000,000 - оставляем 1000000"
   ]
  },
  {
   "cell_type": "code",
   "execution_count": 75,
   "metadata": {},
   "outputs": [
    {
     "name": "stdout",
     "output_type": "stream",
     "text": [
      "70324.36 67417.0\n"
     ]
    }
   ],
   "source": [
    "employees_mapping = {\n",
    "    '$0-999': 500, \n",
    "    '1,000-1,999': 1500, \n",
    "    '2,000-2,999': 2500, \n",
    "    '3,000-3,999': 3500, \n",
    "    '4,000-4,999': 4500,\n",
    "    '5,000-7,499': 6250,\n",
    "    '7,500-9,999': 8250,\n",
    "    '10,000-14,999': 12500,\n",
    "    '15,000-19,999': 17500,\n",
    "    '20,000-24,999': 22500,\n",
    "    '25,000-29,999': 27500,\n",
    "    '30,000-39,999': 35000,\n",
    "    '40,000-49,999': 45000,\n",
    "    '50,000-59,999': 55000,\n",
    "    '60,000-69,999': 65000,\n",
    "    '70,000-79,999': 75000,\n",
    "    '80,000-89,999': 85000,\n",
    "    '90,000-99,999': 95000,\n",
    "    '100,000-124,999': 112500,\n",
    "    '125,000-149,999': 137500,\n",
    "    '150,000-199,999': 175000,\n",
    "    '200,000-249,999': 225000,\n",
    "    '250,000-299,999': 275000, \n",
    "    '300,000-499,999': 400000, \n",
    "    '$500,000-999,999': 750000, \n",
    "    '>$1,000,000': 1000000,\n",
    "}\n",
    "\n",
    "DS = round(data [\n",
    "    data['Q23'] == 'Data Scientist'\n",
    "]['Q29'].map(employees_mapping).mean(), 2)\n",
    "ML = round(data [\n",
    "    data['Q23'] == 'Machine Learning/ MLops Engineer'\n",
    "]['Q29'].map(employees_mapping).mean(), 2)\n",
    "\n",
    "print(DS, ML)"
   ]
  },
  {
   "cell_type": "markdown",
   "metadata": {},
   "source": [
    "## Задание 7 - Дополнительное задание"
   ]
  },
  {
   "cell_type": "markdown",
   "metadata": {},
   "source": [
    "Найдите какой-нибудь интересный инсайт из этих данных. Пишите свои интересные инсайты в чат проекта с хэштегом.\n",
    "#инсайт\n",
    "\n",
    "Автор самого интересного инсайта получит p2p баллы. Поверь, они тебе понадобятся"
   ]
  },
  {
   "cell_type": "code",
   "execution_count": 68,
   "metadata": {},
   "outputs": [
    {
     "name": "stdout",
     "output_type": "stream",
     "text": [
      "22.03% опрошенных являются женщины\n"
     ]
    }
   ],
   "source": [
    "woman = data['Q3'].str.contains('Woman').value_counts()[True]\n",
    "noname = data['Q3'].str.contains('Woman').value_counts()[False]\n",
    "print(f'{round((woman * 100 / (woman + noname)), 2)}% опрошенных являются женщины')"
   ]
  }
 ],
 "metadata": {
  "kernelspec": {
   "display_name": "Python 3",
   "language": "python",
   "name": "python3"
  },
  "language_info": {
   "codemirror_mode": {
    "name": "ipython",
    "version": 3
   },
   "file_extension": ".py",
   "mimetype": "text/x-python",
   "name": "python",
   "nbconvert_exporter": "python",
   "pygments_lexer": "ipython3",
   "version": "3.11.1"
  },
  "vscode": {
   "interpreter": {
    "hash": "251c5f4b778030d6c609d99aa17b4421361b674e64a57718eedff6c08a612b60"
   }
  }
 },
 "nbformat": 4,
 "nbformat_minor": 4
}
